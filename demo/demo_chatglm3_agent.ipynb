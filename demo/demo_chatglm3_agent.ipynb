{
 "cells": [
  {
   "cell_type": "markdown",
   "id": "45d56c67-7439-4264-912a-c0b4895cac63",
   "metadata": {
    "execution": {
     "iopub.execute_input": "2023-09-04T14:17:41.716630Z",
     "iopub.status.busy": "2023-09-04T14:17:41.716258Z",
     "iopub.status.idle": "2023-09-04T14:17:42.097933Z",
     "shell.execute_reply": "2023-09-04T14:17:42.097255Z",
     "shell.execute_reply.started": "2023-09-04T14:17:41.716610Z"
    }
   },
   "source": [
    "### clone代码"
   ]
  },
  {
   "cell_type": "code",
   "execution_count": null,
   "id": "3851d799-7162-4e73-acab-3c13cb1e43bd",
   "metadata": {
    "ExecutionIndicator": {
     "show": true
    },
    "tags": []
   },
   "outputs": [],
   "source": [
    "!git clone https://github.com/modelscope/modelscope-agent.git"
   ]
  },
  {
   "cell_type": "markdown",
   "id": "f71e64d0-f967-4244-98ba-4e5bc4530883",
   "metadata": {
    "execution": {
     "iopub.execute_input": "2023-09-04T14:17:41.716630Z",
     "iopub.status.busy": "2023-09-04T14:17:41.716258Z",
     "iopub.status.idle": "2023-09-04T14:17:42.097933Z",
     "shell.execute_reply": "2023-09-04T14:17:42.097255Z",
     "shell.execute_reply.started": "2023-09-04T14:17:41.716610Z"
    }
   },
   "source": [
    "### 安装特定依赖"
   ]
  },
  {
   "cell_type": "code",
   "execution_count": null,
   "id": "489900d6-cc33-4ada-b2be-7e3a139cf6ed",
   "metadata": {},
   "outputs": [],
   "source": [
    "! cd modelscope-agent && pip install -r requirements.txt\n",
    "! pip install transformers_stream_generator\n",
    "! pip install invisible-watermark>=2.0"
   ]
  },
  {
   "cell_type": "code",
   "execution_count": 1,
   "id": "2c1ede08-857f-4592-9093-d7e5a37ce245",
   "metadata": {
    "ExecutionIndicator": {
     "show": true
    },
    "tags": []
   },
   "outputs": [],
   "source": [
    "import os\n",
    "#os.chdir('modelscope-agent/demo')\n",
    "os.chdir('../demo')\n",
    "\n",
    "import sys\n",
    "sys.path.append('../')"
   ]
  },
  {
   "cell_type": "markdown",
   "id": "ad42f062-5664-44f8-82b7-6995a4f512a0",
   "metadata": {},
   "source": [
    "### 读取环境变量文件和工具config配置"
   ]
  },
  {
   "cell_type": "code",
   "execution_count": 2,
   "id": "84f06ad1-34c5-4032-9254-aab88d7fe19d",
   "metadata": {
    "ExecutionIndicator": {
     "show": true
    },
    "tags": []
   },
   "outputs": [
    {
     "name": "stderr",
     "output_type": "stream",
     "text": [
      "2023-11-15 15:27:59,394 - modelscope - INFO - PyTorch version 2.1.0+cu118 Found.\n",
      "2023-11-15 15:27:59,397 - modelscope - INFO - TensorFlow version 2.14.0 Found.\n",
      "2023-11-15 15:27:59,397 - modelscope - INFO - Loading ast index from /mnt/workspace/.cache/modelscope/ast_indexer\n",
      "2023-11-15 15:27:59,423 - modelscope - INFO - Loading done! Current index file version is 1.9.5, with md5 30066d141994bb686e9cdefbaa0e387f and a total number of 945 components indexed\n"
     ]
    },
    {
     "name": "stdout",
     "output_type": "stream",
     "text": [
      "请输入ModelScope Token，可以从这里获取: https://modelscope.cn/my/myaccesstoken\n",
      "请输入DashScope Token，可以从这里获取: 1. 注册登录https://dashscope.aliyun.com 2. 打开模型广场选择通义千问开源系列，并申请开通通义千问7B模型 3. 预计半天通过\n",
      "../config/cfg_tool_template.json\n",
      "../config/cfg_model_template.json\n"
     ]
    }
   ],
   "source": [
    "from dotenv import load_dotenv\n",
    "import os\n",
    "from modelscope.utils.config import Config\n",
    "\n",
    "# 配置环境变量，里面需要配置modelscope token来remote调用AI模型\n",
    "os.environ['TOOL_CONFIG_FILE'] ='../config/cfg_tool_template.json'\n",
    "os.environ['MODEL_CONFIG_FILE'] ='../config/cfg_model_template.json'\n",
    "\n",
    "os.environ['OUTPUT_FILE_DIRECTORY'] = '/tmp'\n",
    "\n",
    "# ModelScope Token从这里获取: https://modelscope.cn/my/myaccesstoken\n",
    "print('请输入ModelScope Token，可以从这里获取: https://modelscope.cn/my/myaccesstoken')\n",
    "os.environ['MODELSCOPE_API_TOKEN'] = '61ec67d2-fb1e-4c40-85ed-da2ac54e3a0d'\n",
    "\n",
    "print('请输入DashScope Token，可以从这里获取: 1. 注册登录https://dashscope.aliyun.com 2. 打开模型广场选择通义千问开源系列，并申请开通通义千问7B模型 3. 预计半天通过')\n",
    "\n",
    "os.environ['DASHSCOPE_API_KEY'] = 'uwjIui5vzfMXRGfWzdU5hkPdE0FJTFFW95425EAEDCCB11ED9809620D7200B5B8'\n",
    "\n",
    "# 读取工具调用CONFIG文件，包括工具的名称和远程请求url\n",
    "tool_cfg_file = os.getenv('TOOL_CONFIG_FILE')\n",
    "print(tool_cfg_file)\n",
    "tool_cfg = Config.from_file(tool_cfg_file)\n",
    "\n",
    "model_cfg_file = os.getenv('MODEL_CONFIG_FILE')\n",
    "print(model_cfg_file)\n",
    "model_cfg = Config.from_file(model_cfg_file)\n",
    "\n"
   ]
  },
  {
   "cell_type": "code",
   "execution_count": 7,
   "id": "fbbee3d8-067b-405d-b630-2a74d4e78b5c",
   "metadata": {
    "ExecutionIndicator": {
     "show": true
    },
    "tags": []
   },
   "outputs": [
    {
     "name": "stderr",
     "output_type": "stream",
     "text": [
      "2023-11-15 15:33:02.384457: I tensorflow/core/util/port.cc:111] oneDNN custom operations are on. You may see slightly different numerical results due to floating-point round-off errors from different computation orders. To turn them off, set the environment variable `TF_ENABLE_ONEDNN_OPTS=0`.\n",
      "2023-11-15 15:33:02.417668: E tensorflow/compiler/xla/stream_executor/cuda/cuda_dnn.cc:9342] Unable to register cuDNN factory: Attempting to register factory for plugin cuDNN when one has already been registered\n",
      "2023-11-15 15:33:02.417696: E tensorflow/compiler/xla/stream_executor/cuda/cuda_fft.cc:609] Unable to register cuFFT factory: Attempting to register factory for plugin cuFFT when one has already been registered\n",
      "2023-11-15 15:33:02.417719: E tensorflow/compiler/xla/stream_executor/cuda/cuda_blas.cc:1518] Unable to register cuBLAS factory: Attempting to register factory for plugin cuBLAS when one has already been registered\n",
      "2023-11-15 15:33:02.424317: I tensorflow/core/platform/cpu_feature_guard.cc:182] This TensorFlow binary is optimized to use available CPU instructions in performance-critical operations.\n",
      "To enable the following instructions: AVX2 AVX512F AVX512_VNNI FMA, in other operations, rebuild TensorFlow with the appropriate compiler flags.\n",
      "2023-11-15 15:33:03.098690: W tensorflow/compiler/tf2tensorrt/utils/py_utils.cc:38] TF-TRT Warning: Could not find TensorRT\n"
     ]
    },
    {
     "name": "stdout",
     "output_type": "stream",
     "text": [
      "cfg: Config (path: ../config/cfg_model_template.json): {'modelscope-agent': {'type': 'dashscope', 'model': 'modelscope-agent-llm-v1', 'generate_cfg': {'use_raw_prompt': True, 'top_p': 0.8, 'seed': 123, 'debug': False}}, 'qwen_plus': {'type': 'dashscope', 'model': 'qwen-plus', 'generate_cfg': {'use_raw_prompt': True, 'top_p': 0.8, 'top_k': 10, 'seed': 123, 'debug': False}}, 'custom_llm': {'type': 'custom_llm'}, 'openai': {'type': 'openai', 'model': 'gpt-3.5-turbo'}, 'modelscope-agent-7b': {'type': 'modelscope', 'model_id': 'damo/ModelScope-Agent-7B', 'model_revision': 'v1.0.0', 'use_raw_generation_config': True, 'custom_chat': True}, 'chatglm3-6b': {'type': 'modelscope', 'model_id': 'ZhipuAI/chatglm3-6b', 'model_revision': 'v1.0.2'}, 'generate_cfg': {'do_sample': True, 'max_length': 512}}\n"
     ]
    },
    {
     "name": "stderr",
     "output_type": "stream",
     "text": [
      "2023-11-15 15:33:05,813 - modelscope - INFO - Use user-specified model revision: v1.0.2\n",
      "Loading checkpoint shards: 100%|██████████| 7/7 [00:08<00:00,  1.27s/it]\n"
     ]
    }
   ],
   "source": [
    "from modelscope_agent.agent import AgentExecutor\n",
    "from modelscope_agent.llm import LLMFactory\n",
    "from modelscope_agent.tools import CodeInterpreter\n",
    "from modelscope_agent.prompt.chatglm3_prompt import ChatGLMPromptGenerator\n",
    "\n",
    "model_name = 'chatglm3-6b'\n",
    "model_cfg[\"generate_cfg\"] = {\"do_sample\":True, \"max_length\":512}\n",
    "llm = LLMFactory.build_llm(model_name, model_cfg)\n",
    "\n",
    "\n",
    "prompt_generator = ChatGLMPromptGenerator()\n",
    "additional_tool_list = {\n",
    "    CodeInterpreter.name: CodeInterpreter()\n",
    "}\n",
    "agent = AgentExecutor(llm, tool_cfg, prompt_generator=prompt_generator, additional_tool_list=additional_tool_list, tool_retrieval=False)\n",
    "available_tool_list = ['code_interpreter']\n",
    "agent.set_available_tools(available_tool_list)\n"
   ]
  },
  {
   "cell_type": "markdown",
   "id": "b53b9bb3-8380-4e6d-987c-102991f60563",
   "metadata": {},
   "source": [
    "### 执行测试"
   ]
  },
  {
   "cell_type": "code",
   "execution_count": 8,
   "id": "5b4fd261-0ddf-485f-afdc-559b718b9bf3",
   "metadata": {
    "tags": []
   },
   "outputs": [
    {
     "name": "stdout",
     "output_type": "stream",
     "text": [
      "prompt: <|system|>\n",
      "Answer the following questions as best you can. You have access to the following tools:\n",
      "[\n",
      "    {\n",
      "        \"name\": \"code_interpreter\",\n",
      "        \"description\": \"Executes code on the user's machine, **in the users local environment**, and returns the output\",\n",
      "        \"parameters\": [\n",
      "            {\n",
      "                \"name\": \"language\",\n",
      "                \"description\": \"The programming language (required parameter to the `execute` function)\",\n",
      "                \"required\": true\n",
      "            },\n",
      "            {\n",
      "                \"name\": \"code\",\n",
      "                \"description\": \"The code to execute (required)\",\n",
      "                \"required\": true\n",
      "            }\n",
      "        ]\n",
      "    }\n",
      "]\n",
      "<|user|>\n",
      "查看我本地python版本并返回\n",
      "<|assistant|>\n",
      "llm_result: \n",
      "\n",
      "|LLM inputs in round 1: <|system|>\n",
      "Answer the following questions as best you can. You have access to the following tools:\n",
      "[\n",
      "    {\n",
      "        \"name\": \"code_interpreter\",\n",
      "        \"description\": \"Executes code on the user's machine, **in the users local environment**, and returns the output\",\n",
      "        \"parameters\": [\n",
      "            {\n",
      "                \"name\": \"language\",\n",
      "                \"description\": \"The programming language (required parameter to the `execute` function)\",\n",
      "                \"required\": true\n",
      "            },\n",
      "            {\n",
      "                \"name\": \"code\",\n",
      "                \"description\": \"The code to execute (required)\",\n",
      "                \"required\": true\n",
      "            }\n",
      "        ]\n",
      "    }\n",
      "]\n",
      "<|user|>\n",
      "查看我本地python版本并返回\n",
      "<|assistant|>\n"
     ]
    },
    {
     "data": {
      "text/plain": [
       "**************************************************round 1**************************************************"
      ]
     },
     "metadata": {},
     "output_type": "display_data"
    },
    {
     "data": {
      "text/plain": [
       "\n"
      ]
     },
     "metadata": {},
     "output_type": "display_data"
    },
    {
     "data": {
      "text/plain": []
     },
     "metadata": {},
     "output_type": "display_data"
    },
    {
     "data": {
      "text/plain": [
       "[]"
      ]
     },
     "execution_count": 8,
     "metadata": {},
     "output_type": "execute_result"
    }
   ],
   "source": [
    "# 重置对话，清空对话历史\n",
    "agent.reset()\n",
    "\n",
    "# remote=True为调用modelscope api，该服务免费支持QPS较低，建议部署在本地，将remote=False\n",
    "agent.run(\"查看我本地python版本并返回\", remote=False, print_info=True)"
   ]
  },
  {
   "cell_type": "code",
   "execution_count": null,
   "id": "a3ce13e2-7321-4f8f-bc04-c5882730bdf2",
   "metadata": {},
   "outputs": [],
   "source": [
    "\n",
    "agent.reset()\n",
    "# remote=True为调用modelscope api，该服务免费支持QPS较低，建议部署在本地，将remote=False\n",
    "agent.run(\"generate an image: a cute dog is running in the city\", remote=True)"
   ]
  }
 ],
 "metadata": {
  "kernelspec": {
   "display_name": "Python 3 (ipykernel)",
   "language": "python",
   "name": "python3"
  },
  "language_info": {
   "codemirror_mode": {
    "name": "ipython",
    "version": 3
   },
   "file_extension": ".py",
   "mimetype": "text/x-python",
   "name": "python",
   "nbconvert_exporter": "python",
   "pygments_lexer": "ipython3",
   "version": "3.10.13"
  }
 },
 "nbformat": 4,
 "nbformat_minor": 5
}
